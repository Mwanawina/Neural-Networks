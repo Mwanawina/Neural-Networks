{
  "nbformat": 4,
  "nbformat_minor": 0,
  "metadata": {
    "colab": {
      "provenance": []
    },
    "kernelspec": {
      "name": "python3",
      "display_name": "Python 3"
    },
    "language_info": {
      "name": "python"
    }
  },
  "cells": [
    {
      "cell_type": "markdown",
      "source": [
        "# Building a Neural Network using Keras\n",
        "\n",
        "### Problem\n",
        "\n",
        "We have a dataset containing weight and wing length measurements of 168 birds in a rainforest. There are three species of interest in this study. Unfortunately, there was a data entry error: one of the researchers took all the necessary measurements of 20 birds, but did not include the species of these birds in his record. Returning to the rainforest to correct this mistake is expensive, both logistically and resource-wise. The team opts to use the complete data they already have on the other  148 birds to figure out what the species of these 20 birds could be.\n",
        "\n",
        "### Task\n",
        "\n",
        "Build a neural network to predict what species these 20 birds belong to."
      ],
      "metadata": {
        "id": "OufRH57GWh4G"
      }
    },
    {
      "cell_type": "markdown",
      "source": [
        "## Introduction\n",
        "\n",
        "In our initial exploration of this classification task, we built a basic neural network without any hyperparameter tuning. In this notebook, we will revisit this basic network configuration and additionally develop another neural network that has undergone hyperparameter tuning. By comparing these two models, we aim to evaluate their respective performances and highlight the impact of hyperparameter optimisation."
      ],
      "metadata": {
        "id": "IH3wdb__W41G"
      }
    },
    {
      "cell_type": "code",
      "source": [
        "import pandas as pd\n",
        "import numpy as np\n",
        "import matplotlib.pyplot as plt\n",
        "import seaborn as sns\n",
        "\n",
        "import tensorflow as tf\n",
        "from tensorflow.keras.models import Sequential\n",
        "from tensorflow.keras.layers import Dense\n",
        "from tensorflow.keras.regularizers import l2\n",
        "\n",
        "from sklearn.model_selection import train_test_split\n",
        "from sklearn.preprocessing import StandardScaler\n",
        "from sklearn.metrics import confusion_matrix, classification_report"
      ],
      "metadata": {
        "id": "XKupd_RjTAT-"
      },
      "execution_count": null,
      "outputs": []
    },
    {
      "cell_type": "code",
      "execution_count": null,
      "metadata": {
        "colab": {
          "base_uri": "https://localhost:8080/"
        },
        "id": "UM6HMqTUaykd",
        "outputId": "b0cfb492-c97b-4f3f-c4ea-b62efd829cca"
      },
      "outputs": [
        {
          "output_type": "stream",
          "name": "stdout",
          "text": [
            "Mounted at /content/drive\n"
          ]
        }
      ],
      "source": [
        "# Mounting notebook (for Google Colab users)\n",
        "from google.colab import drive\n",
        "drive.mount('/content/drive')"
      ]
    },
    {
      "cell_type": "code",
      "source": [
        "data = pd.read_csv('/content/drive/MyDrive/Colab Notebooks/Bird_Data_missing.txt', delimiter = ' ')\n",
        "data.head()"
      ],
      "metadata": {
        "colab": {
          "base_uri": "https://localhost:8080/",
          "height": 206
        },
        "id": "fKPOTrbZc36l",
        "outputId": "46cf25a1-0935-46e7-f1db-f6cf9b251046"
      },
      "execution_count": null,
      "outputs": [
        {
          "output_type": "execute_result",
          "data": {
            "text/plain": [
              "   Firewing  Shadowhawk  Thunderbeaks   Wing  Weight\n",
              "0         1           0             0  0.372   0.915\n",
              "1         1           0             0  0.371   1.160\n",
              "2         1           0             0  0.469   1.001\n",
              "3         1           0             0  0.262   1.020\n",
              "4         1           0             0  0.375   0.950"
            ],
            "text/html": [
              "\n",
              "  <div id=\"df-f3782d67-d97e-49d2-8aed-12354d0b5a3b\" class=\"colab-df-container\">\n",
              "    <div>\n",
              "<style scoped>\n",
              "    .dataframe tbody tr th:only-of-type {\n",
              "        vertical-align: middle;\n",
              "    }\n",
              "\n",
              "    .dataframe tbody tr th {\n",
              "        vertical-align: top;\n",
              "    }\n",
              "\n",
              "    .dataframe thead th {\n",
              "        text-align: right;\n",
              "    }\n",
              "</style>\n",
              "<table border=\"1\" class=\"dataframe\">\n",
              "  <thead>\n",
              "    <tr style=\"text-align: right;\">\n",
              "      <th></th>\n",
              "      <th>Firewing</th>\n",
              "      <th>Shadowhawk</th>\n",
              "      <th>Thunderbeaks</th>\n",
              "      <th>Wing</th>\n",
              "      <th>Weight</th>\n",
              "    </tr>\n",
              "  </thead>\n",
              "  <tbody>\n",
              "    <tr>\n",
              "      <th>0</th>\n",
              "      <td>1</td>\n",
              "      <td>0</td>\n",
              "      <td>0</td>\n",
              "      <td>0.372</td>\n",
              "      <td>0.915</td>\n",
              "    </tr>\n",
              "    <tr>\n",
              "      <th>1</th>\n",
              "      <td>1</td>\n",
              "      <td>0</td>\n",
              "      <td>0</td>\n",
              "      <td>0.371</td>\n",
              "      <td>1.160</td>\n",
              "    </tr>\n",
              "    <tr>\n",
              "      <th>2</th>\n",
              "      <td>1</td>\n",
              "      <td>0</td>\n",
              "      <td>0</td>\n",
              "      <td>0.469</td>\n",
              "      <td>1.001</td>\n",
              "    </tr>\n",
              "    <tr>\n",
              "      <th>3</th>\n",
              "      <td>1</td>\n",
              "      <td>0</td>\n",
              "      <td>0</td>\n",
              "      <td>0.262</td>\n",
              "      <td>1.020</td>\n",
              "    </tr>\n",
              "    <tr>\n",
              "      <th>4</th>\n",
              "      <td>1</td>\n",
              "      <td>0</td>\n",
              "      <td>0</td>\n",
              "      <td>0.375</td>\n",
              "      <td>0.950</td>\n",
              "    </tr>\n",
              "  </tbody>\n",
              "</table>\n",
              "</div>\n",
              "    <div class=\"colab-df-buttons\">\n",
              "\n",
              "  <div class=\"colab-df-container\">\n",
              "    <button class=\"colab-df-convert\" onclick=\"convertToInteractive('df-f3782d67-d97e-49d2-8aed-12354d0b5a3b')\"\n",
              "            title=\"Convert this dataframe to an interactive table.\"\n",
              "            style=\"display:none;\">\n",
              "\n",
              "  <svg xmlns=\"http://www.w3.org/2000/svg\" height=\"24px\" viewBox=\"0 -960 960 960\">\n",
              "    <path d=\"M120-120v-720h720v720H120Zm60-500h600v-160H180v160Zm220 220h160v-160H400v160Zm0 220h160v-160H400v160ZM180-400h160v-160H180v160Zm440 0h160v-160H620v160ZM180-180h160v-160H180v160Zm440 0h160v-160H620v160Z\"/>\n",
              "  </svg>\n",
              "    </button>\n",
              "\n",
              "  <style>\n",
              "    .colab-df-container {\n",
              "      display:flex;\n",
              "      gap: 12px;\n",
              "    }\n",
              "\n",
              "    .colab-df-convert {\n",
              "      background-color: #E8F0FE;\n",
              "      border: none;\n",
              "      border-radius: 50%;\n",
              "      cursor: pointer;\n",
              "      display: none;\n",
              "      fill: #1967D2;\n",
              "      height: 32px;\n",
              "      padding: 0 0 0 0;\n",
              "      width: 32px;\n",
              "    }\n",
              "\n",
              "    .colab-df-convert:hover {\n",
              "      background-color: #E2EBFA;\n",
              "      box-shadow: 0px 1px 2px rgba(60, 64, 67, 0.3), 0px 1px 3px 1px rgba(60, 64, 67, 0.15);\n",
              "      fill: #174EA6;\n",
              "    }\n",
              "\n",
              "    .colab-df-buttons div {\n",
              "      margin-bottom: 4px;\n",
              "    }\n",
              "\n",
              "    [theme=dark] .colab-df-convert {\n",
              "      background-color: #3B4455;\n",
              "      fill: #D2E3FC;\n",
              "    }\n",
              "\n",
              "    [theme=dark] .colab-df-convert:hover {\n",
              "      background-color: #434B5C;\n",
              "      box-shadow: 0px 1px 3px 1px rgba(0, 0, 0, 0.15);\n",
              "      filter: drop-shadow(0px 1px 2px rgba(0, 0, 0, 0.3));\n",
              "      fill: #FFFFFF;\n",
              "    }\n",
              "  </style>\n",
              "\n",
              "    <script>\n",
              "      const buttonEl =\n",
              "        document.querySelector('#df-f3782d67-d97e-49d2-8aed-12354d0b5a3b button.colab-df-convert');\n",
              "      buttonEl.style.display =\n",
              "        google.colab.kernel.accessAllowed ? 'block' : 'none';\n",
              "\n",
              "      async function convertToInteractive(key) {\n",
              "        const element = document.querySelector('#df-f3782d67-d97e-49d2-8aed-12354d0b5a3b');\n",
              "        const dataTable =\n",
              "          await google.colab.kernel.invokeFunction('convertToInteractive',\n",
              "                                                    [key], {});\n",
              "        if (!dataTable) return;\n",
              "\n",
              "        const docLinkHtml = 'Like what you see? Visit the ' +\n",
              "          '<a target=\"_blank\" href=https://colab.research.google.com/notebooks/data_table.ipynb>data table notebook</a>'\n",
              "          + ' to learn more about interactive tables.';\n",
              "        element.innerHTML = '';\n",
              "        dataTable['output_type'] = 'display_data';\n",
              "        await google.colab.output.renderOutput(dataTable, element);\n",
              "        const docLink = document.createElement('div');\n",
              "        docLink.innerHTML = docLinkHtml;\n",
              "        element.appendChild(docLink);\n",
              "      }\n",
              "    </script>\n",
              "  </div>\n",
              "\n",
              "\n",
              "<div id=\"df-fbed9375-1345-4d5c-909d-9636180118c2\">\n",
              "  <button class=\"colab-df-quickchart\" onclick=\"quickchart('df-fbed9375-1345-4d5c-909d-9636180118c2')\"\n",
              "            title=\"Suggest charts\"\n",
              "            style=\"display:none;\">\n",
              "\n",
              "<svg xmlns=\"http://www.w3.org/2000/svg\" height=\"24px\"viewBox=\"0 0 24 24\"\n",
              "     width=\"24px\">\n",
              "    <g>\n",
              "        <path d=\"M19 3H5c-1.1 0-2 .9-2 2v14c0 1.1.9 2 2 2h14c1.1 0 2-.9 2-2V5c0-1.1-.9-2-2-2zM9 17H7v-7h2v7zm4 0h-2V7h2v10zm4 0h-2v-4h2v4z\"/>\n",
              "    </g>\n",
              "</svg>\n",
              "  </button>\n",
              "\n",
              "<style>\n",
              "  .colab-df-quickchart {\n",
              "      --bg-color: #E8F0FE;\n",
              "      --fill-color: #1967D2;\n",
              "      --hover-bg-color: #E2EBFA;\n",
              "      --hover-fill-color: #174EA6;\n",
              "      --disabled-fill-color: #AAA;\n",
              "      --disabled-bg-color: #DDD;\n",
              "  }\n",
              "\n",
              "  [theme=dark] .colab-df-quickchart {\n",
              "      --bg-color: #3B4455;\n",
              "      --fill-color: #D2E3FC;\n",
              "      --hover-bg-color: #434B5C;\n",
              "      --hover-fill-color: #FFFFFF;\n",
              "      --disabled-bg-color: #3B4455;\n",
              "      --disabled-fill-color: #666;\n",
              "  }\n",
              "\n",
              "  .colab-df-quickchart {\n",
              "    background-color: var(--bg-color);\n",
              "    border: none;\n",
              "    border-radius: 50%;\n",
              "    cursor: pointer;\n",
              "    display: none;\n",
              "    fill: var(--fill-color);\n",
              "    height: 32px;\n",
              "    padding: 0;\n",
              "    width: 32px;\n",
              "  }\n",
              "\n",
              "  .colab-df-quickchart:hover {\n",
              "    background-color: var(--hover-bg-color);\n",
              "    box-shadow: 0 1px 2px rgba(60, 64, 67, 0.3), 0 1px 3px 1px rgba(60, 64, 67, 0.15);\n",
              "    fill: var(--button-hover-fill-color);\n",
              "  }\n",
              "\n",
              "  .colab-df-quickchart-complete:disabled,\n",
              "  .colab-df-quickchart-complete:disabled:hover {\n",
              "    background-color: var(--disabled-bg-color);\n",
              "    fill: var(--disabled-fill-color);\n",
              "    box-shadow: none;\n",
              "  }\n",
              "\n",
              "  .colab-df-spinner {\n",
              "    border: 2px solid var(--fill-color);\n",
              "    border-color: transparent;\n",
              "    border-bottom-color: var(--fill-color);\n",
              "    animation:\n",
              "      spin 1s steps(1) infinite;\n",
              "  }\n",
              "\n",
              "  @keyframes spin {\n",
              "    0% {\n",
              "      border-color: transparent;\n",
              "      border-bottom-color: var(--fill-color);\n",
              "      border-left-color: var(--fill-color);\n",
              "    }\n",
              "    20% {\n",
              "      border-color: transparent;\n",
              "      border-left-color: var(--fill-color);\n",
              "      border-top-color: var(--fill-color);\n",
              "    }\n",
              "    30% {\n",
              "      border-color: transparent;\n",
              "      border-left-color: var(--fill-color);\n",
              "      border-top-color: var(--fill-color);\n",
              "      border-right-color: var(--fill-color);\n",
              "    }\n",
              "    40% {\n",
              "      border-color: transparent;\n",
              "      border-right-color: var(--fill-color);\n",
              "      border-top-color: var(--fill-color);\n",
              "    }\n",
              "    60% {\n",
              "      border-color: transparent;\n",
              "      border-right-color: var(--fill-color);\n",
              "    }\n",
              "    80% {\n",
              "      border-color: transparent;\n",
              "      border-right-color: var(--fill-color);\n",
              "      border-bottom-color: var(--fill-color);\n",
              "    }\n",
              "    90% {\n",
              "      border-color: transparent;\n",
              "      border-bottom-color: var(--fill-color);\n",
              "    }\n",
              "  }\n",
              "</style>\n",
              "\n",
              "  <script>\n",
              "    async function quickchart(key) {\n",
              "      const quickchartButtonEl =\n",
              "        document.querySelector('#' + key + ' button');\n",
              "      quickchartButtonEl.disabled = true;  // To prevent multiple clicks.\n",
              "      quickchartButtonEl.classList.add('colab-df-spinner');\n",
              "      try {\n",
              "        const charts = await google.colab.kernel.invokeFunction(\n",
              "            'suggestCharts', [key], {});\n",
              "      } catch (error) {\n",
              "        console.error('Error during call to suggestCharts:', error);\n",
              "      }\n",
              "      quickchartButtonEl.classList.remove('colab-df-spinner');\n",
              "      quickchartButtonEl.classList.add('colab-df-quickchart-complete');\n",
              "    }\n",
              "    (() => {\n",
              "      let quickchartButtonEl =\n",
              "        document.querySelector('#df-fbed9375-1345-4d5c-909d-9636180118c2 button');\n",
              "      quickchartButtonEl.style.display =\n",
              "        google.colab.kernel.accessAllowed ? 'block' : 'none';\n",
              "    })();\n",
              "  </script>\n",
              "</div>\n",
              "\n",
              "    </div>\n",
              "  </div>\n"
            ],
            "application/vnd.google.colaboratory.intrinsic+json": {
              "type": "dataframe",
              "variable_name": "data",
              "summary": "{\n  \"name\": \"data\",\n  \"rows\": 168,\n  \"fields\": [\n    {\n      \"column\": \"Firewing\",\n      \"properties\": {\n        \"dtype\": \"number\",\n        \"std\": 0,\n        \"min\": 0,\n        \"max\": 1,\n        \"num_unique_values\": 2,\n        \"samples\": [\n          0,\n          1\n        ],\n        \"semantic_type\": \"\",\n        \"description\": \"\"\n      }\n    },\n    {\n      \"column\": \"Shadowhawk\",\n      \"properties\": {\n        \"dtype\": \"number\",\n        \"std\": 0,\n        \"min\": 0,\n        \"max\": 1,\n        \"num_unique_values\": 2,\n        \"samples\": [\n          1,\n          0\n        ],\n        \"semantic_type\": \"\",\n        \"description\": \"\"\n      }\n    },\n    {\n      \"column\": \"Thunderbeaks\",\n      \"properties\": {\n        \"dtype\": \"number\",\n        \"std\": 0,\n        \"min\": 0,\n        \"max\": 1,\n        \"num_unique_values\": 2,\n        \"samples\": [\n          1,\n          0\n        ],\n        \"semantic_type\": \"\",\n        \"description\": \"\"\n      }\n    },\n    {\n      \"column\": \"Wing\",\n      \"properties\": {\n        \"dtype\": \"number\",\n        \"std\": 0.08725032487155017,\n        \"min\": 0.145,\n        \"max\": 0.469,\n        \"num_unique_values\": 108,\n        \"samples\": [\n          0.247,\n          0.347\n        ],\n        \"semantic_type\": \"\",\n        \"description\": \"\"\n      }\n    },\n    {\n      \"column\": \"Weight\",\n      \"properties\": {\n        \"dtype\": \"number\",\n        \"std\": 0.39344162747310496,\n        \"min\": 0.056,\n        \"max\": 1.5,\n        \"num_unique_values\": 118,\n        \"samples\": [\n          0.19,\n          0.229\n        ],\n        \"semantic_type\": \"\",\n        \"description\": \"\"\n      }\n    }\n  ]\n}"
            }
          },
          "metadata": {},
          "execution_count": 3
        }
      ]
    },
    {
      "cell_type": "code",
      "source": [
        "# Getting the wing and weight measurements of incomplete records (the last 20 records)\n",
        "incomplete_records = data.iloc[148:,[3,4]]"
      ],
      "metadata": {
        "id": "3Ehv1-mpUYnn"
      },
      "execution_count": null,
      "outputs": []
    },
    {
      "cell_type": "code",
      "source": [
        "# Using only the 148 birds with complete data for training\n",
        "data = data.iloc[:148,:]\n",
        "data.tail()"
      ],
      "metadata": {
        "colab": {
          "base_uri": "https://localhost:8080/",
          "height": 206
        },
        "id": "Vnbf9L0h7CG5",
        "outputId": "c9ec8a19-66d4-47d7-8317-4edbe07d1714"
      },
      "execution_count": null,
      "outputs": [
        {
          "output_type": "execute_result",
          "data": {
            "text/plain": [
              "     Firewing  Shadowhawk  Thunderbeaks   Wing  Weight\n",
              "143         0           0             1  0.273   0.530\n",
              "144         0           0             1  0.243   0.334\n",
              "145         0           0             1  0.194   0.163\n",
              "146         0           0             1  0.145   0.320\n",
              "147         0           0             1  0.225   0.325"
            ],
            "text/html": [
              "\n",
              "  <div id=\"df-0c5e0ebb-37b7-46c9-8faa-cf94c07ef247\" class=\"colab-df-container\">\n",
              "    <div>\n",
              "<style scoped>\n",
              "    .dataframe tbody tr th:only-of-type {\n",
              "        vertical-align: middle;\n",
              "    }\n",
              "\n",
              "    .dataframe tbody tr th {\n",
              "        vertical-align: top;\n",
              "    }\n",
              "\n",
              "    .dataframe thead th {\n",
              "        text-align: right;\n",
              "    }\n",
              "</style>\n",
              "<table border=\"1\" class=\"dataframe\">\n",
              "  <thead>\n",
              "    <tr style=\"text-align: right;\">\n",
              "      <th></th>\n",
              "      <th>Firewing</th>\n",
              "      <th>Shadowhawk</th>\n",
              "      <th>Thunderbeaks</th>\n",
              "      <th>Wing</th>\n",
              "      <th>Weight</th>\n",
              "    </tr>\n",
              "  </thead>\n",
              "  <tbody>\n",
              "    <tr>\n",
              "      <th>143</th>\n",
              "      <td>0</td>\n",
              "      <td>0</td>\n",
              "      <td>1</td>\n",
              "      <td>0.273</td>\n",
              "      <td>0.530</td>\n",
              "    </tr>\n",
              "    <tr>\n",
              "      <th>144</th>\n",
              "      <td>0</td>\n",
              "      <td>0</td>\n",
              "      <td>1</td>\n",
              "      <td>0.243</td>\n",
              "      <td>0.334</td>\n",
              "    </tr>\n",
              "    <tr>\n",
              "      <th>145</th>\n",
              "      <td>0</td>\n",
              "      <td>0</td>\n",
              "      <td>1</td>\n",
              "      <td>0.194</td>\n",
              "      <td>0.163</td>\n",
              "    </tr>\n",
              "    <tr>\n",
              "      <th>146</th>\n",
              "      <td>0</td>\n",
              "      <td>0</td>\n",
              "      <td>1</td>\n",
              "      <td>0.145</td>\n",
              "      <td>0.320</td>\n",
              "    </tr>\n",
              "    <tr>\n",
              "      <th>147</th>\n",
              "      <td>0</td>\n",
              "      <td>0</td>\n",
              "      <td>1</td>\n",
              "      <td>0.225</td>\n",
              "      <td>0.325</td>\n",
              "    </tr>\n",
              "  </tbody>\n",
              "</table>\n",
              "</div>\n",
              "    <div class=\"colab-df-buttons\">\n",
              "\n",
              "  <div class=\"colab-df-container\">\n",
              "    <button class=\"colab-df-convert\" onclick=\"convertToInteractive('df-0c5e0ebb-37b7-46c9-8faa-cf94c07ef247')\"\n",
              "            title=\"Convert this dataframe to an interactive table.\"\n",
              "            style=\"display:none;\">\n",
              "\n",
              "  <svg xmlns=\"http://www.w3.org/2000/svg\" height=\"24px\" viewBox=\"0 -960 960 960\">\n",
              "    <path d=\"M120-120v-720h720v720H120Zm60-500h600v-160H180v160Zm220 220h160v-160H400v160Zm0 220h160v-160H400v160ZM180-400h160v-160H180v160Zm440 0h160v-160H620v160ZM180-180h160v-160H180v160Zm440 0h160v-160H620v160Z\"/>\n",
              "  </svg>\n",
              "    </button>\n",
              "\n",
              "  <style>\n",
              "    .colab-df-container {\n",
              "      display:flex;\n",
              "      gap: 12px;\n",
              "    }\n",
              "\n",
              "    .colab-df-convert {\n",
              "      background-color: #E8F0FE;\n",
              "      border: none;\n",
              "      border-radius: 50%;\n",
              "      cursor: pointer;\n",
              "      display: none;\n",
              "      fill: #1967D2;\n",
              "      height: 32px;\n",
              "      padding: 0 0 0 0;\n",
              "      width: 32px;\n",
              "    }\n",
              "\n",
              "    .colab-df-convert:hover {\n",
              "      background-color: #E2EBFA;\n",
              "      box-shadow: 0px 1px 2px rgba(60, 64, 67, 0.3), 0px 1px 3px 1px rgba(60, 64, 67, 0.15);\n",
              "      fill: #174EA6;\n",
              "    }\n",
              "\n",
              "    .colab-df-buttons div {\n",
              "      margin-bottom: 4px;\n",
              "    }\n",
              "\n",
              "    [theme=dark] .colab-df-convert {\n",
              "      background-color: #3B4455;\n",
              "      fill: #D2E3FC;\n",
              "    }\n",
              "\n",
              "    [theme=dark] .colab-df-convert:hover {\n",
              "      background-color: #434B5C;\n",
              "      box-shadow: 0px 1px 3px 1px rgba(0, 0, 0, 0.15);\n",
              "      filter: drop-shadow(0px 1px 2px rgba(0, 0, 0, 0.3));\n",
              "      fill: #FFFFFF;\n",
              "    }\n",
              "  </style>\n",
              "\n",
              "    <script>\n",
              "      const buttonEl =\n",
              "        document.querySelector('#df-0c5e0ebb-37b7-46c9-8faa-cf94c07ef247 button.colab-df-convert');\n",
              "      buttonEl.style.display =\n",
              "        google.colab.kernel.accessAllowed ? 'block' : 'none';\n",
              "\n",
              "      async function convertToInteractive(key) {\n",
              "        const element = document.querySelector('#df-0c5e0ebb-37b7-46c9-8faa-cf94c07ef247');\n",
              "        const dataTable =\n",
              "          await google.colab.kernel.invokeFunction('convertToInteractive',\n",
              "                                                    [key], {});\n",
              "        if (!dataTable) return;\n",
              "\n",
              "        const docLinkHtml = 'Like what you see? Visit the ' +\n",
              "          '<a target=\"_blank\" href=https://colab.research.google.com/notebooks/data_table.ipynb>data table notebook</a>'\n",
              "          + ' to learn more about interactive tables.';\n",
              "        element.innerHTML = '';\n",
              "        dataTable['output_type'] = 'display_data';\n",
              "        await google.colab.output.renderOutput(dataTable, element);\n",
              "        const docLink = document.createElement('div');\n",
              "        docLink.innerHTML = docLinkHtml;\n",
              "        element.appendChild(docLink);\n",
              "      }\n",
              "    </script>\n",
              "  </div>\n",
              "\n",
              "\n",
              "<div id=\"df-36dfafc2-ac60-4732-a240-d8405de78247\">\n",
              "  <button class=\"colab-df-quickchart\" onclick=\"quickchart('df-36dfafc2-ac60-4732-a240-d8405de78247')\"\n",
              "            title=\"Suggest charts\"\n",
              "            style=\"display:none;\">\n",
              "\n",
              "<svg xmlns=\"http://www.w3.org/2000/svg\" height=\"24px\"viewBox=\"0 0 24 24\"\n",
              "     width=\"24px\">\n",
              "    <g>\n",
              "        <path d=\"M19 3H5c-1.1 0-2 .9-2 2v14c0 1.1.9 2 2 2h14c1.1 0 2-.9 2-2V5c0-1.1-.9-2-2-2zM9 17H7v-7h2v7zm4 0h-2V7h2v10zm4 0h-2v-4h2v4z\"/>\n",
              "    </g>\n",
              "</svg>\n",
              "  </button>\n",
              "\n",
              "<style>\n",
              "  .colab-df-quickchart {\n",
              "      --bg-color: #E8F0FE;\n",
              "      --fill-color: #1967D2;\n",
              "      --hover-bg-color: #E2EBFA;\n",
              "      --hover-fill-color: #174EA6;\n",
              "      --disabled-fill-color: #AAA;\n",
              "      --disabled-bg-color: #DDD;\n",
              "  }\n",
              "\n",
              "  [theme=dark] .colab-df-quickchart {\n",
              "      --bg-color: #3B4455;\n",
              "      --fill-color: #D2E3FC;\n",
              "      --hover-bg-color: #434B5C;\n",
              "      --hover-fill-color: #FFFFFF;\n",
              "      --disabled-bg-color: #3B4455;\n",
              "      --disabled-fill-color: #666;\n",
              "  }\n",
              "\n",
              "  .colab-df-quickchart {\n",
              "    background-color: var(--bg-color);\n",
              "    border: none;\n",
              "    border-radius: 50%;\n",
              "    cursor: pointer;\n",
              "    display: none;\n",
              "    fill: var(--fill-color);\n",
              "    height: 32px;\n",
              "    padding: 0;\n",
              "    width: 32px;\n",
              "  }\n",
              "\n",
              "  .colab-df-quickchart:hover {\n",
              "    background-color: var(--hover-bg-color);\n",
              "    box-shadow: 0 1px 2px rgba(60, 64, 67, 0.3), 0 1px 3px 1px rgba(60, 64, 67, 0.15);\n",
              "    fill: var(--button-hover-fill-color);\n",
              "  }\n",
              "\n",
              "  .colab-df-quickchart-complete:disabled,\n",
              "  .colab-df-quickchart-complete:disabled:hover {\n",
              "    background-color: var(--disabled-bg-color);\n",
              "    fill: var(--disabled-fill-color);\n",
              "    box-shadow: none;\n",
              "  }\n",
              "\n",
              "  .colab-df-spinner {\n",
              "    border: 2px solid var(--fill-color);\n",
              "    border-color: transparent;\n",
              "    border-bottom-color: var(--fill-color);\n",
              "    animation:\n",
              "      spin 1s steps(1) infinite;\n",
              "  }\n",
              "\n",
              "  @keyframes spin {\n",
              "    0% {\n",
              "      border-color: transparent;\n",
              "      border-bottom-color: var(--fill-color);\n",
              "      border-left-color: var(--fill-color);\n",
              "    }\n",
              "    20% {\n",
              "      border-color: transparent;\n",
              "      border-left-color: var(--fill-color);\n",
              "      border-top-color: var(--fill-color);\n",
              "    }\n",
              "    30% {\n",
              "      border-color: transparent;\n",
              "      border-left-color: var(--fill-color);\n",
              "      border-top-color: var(--fill-color);\n",
              "      border-right-color: var(--fill-color);\n",
              "    }\n",
              "    40% {\n",
              "      border-color: transparent;\n",
              "      border-right-color: var(--fill-color);\n",
              "      border-top-color: var(--fill-color);\n",
              "    }\n",
              "    60% {\n",
              "      border-color: transparent;\n",
              "      border-right-color: var(--fill-color);\n",
              "    }\n",
              "    80% {\n",
              "      border-color: transparent;\n",
              "      border-right-color: var(--fill-color);\n",
              "      border-bottom-color: var(--fill-color);\n",
              "    }\n",
              "    90% {\n",
              "      border-color: transparent;\n",
              "      border-bottom-color: var(--fill-color);\n",
              "    }\n",
              "  }\n",
              "</style>\n",
              "\n",
              "  <script>\n",
              "    async function quickchart(key) {\n",
              "      const quickchartButtonEl =\n",
              "        document.querySelector('#' + key + ' button');\n",
              "      quickchartButtonEl.disabled = true;  // To prevent multiple clicks.\n",
              "      quickchartButtonEl.classList.add('colab-df-spinner');\n",
              "      try {\n",
              "        const charts = await google.colab.kernel.invokeFunction(\n",
              "            'suggestCharts', [key], {});\n",
              "      } catch (error) {\n",
              "        console.error('Error during call to suggestCharts:', error);\n",
              "      }\n",
              "      quickchartButtonEl.classList.remove('colab-df-spinner');\n",
              "      quickchartButtonEl.classList.add('colab-df-quickchart-complete');\n",
              "    }\n",
              "    (() => {\n",
              "      let quickchartButtonEl =\n",
              "        document.querySelector('#df-36dfafc2-ac60-4732-a240-d8405de78247 button');\n",
              "      quickchartButtonEl.style.display =\n",
              "        google.colab.kernel.accessAllowed ? 'block' : 'none';\n",
              "    })();\n",
              "  </script>\n",
              "</div>\n",
              "\n",
              "    </div>\n",
              "  </div>\n"
            ],
            "application/vnd.google.colaboratory.intrinsic+json": {
              "type": "dataframe",
              "summary": "{\n  \"name\": \"data\",\n  \"rows\": 5,\n  \"fields\": [\n    {\n      \"column\": \"Firewing\",\n      \"properties\": {\n        \"dtype\": \"number\",\n        \"std\": 0,\n        \"min\": 0,\n        \"max\": 0,\n        \"num_unique_values\": 1,\n        \"samples\": [\n          0\n        ],\n        \"semantic_type\": \"\",\n        \"description\": \"\"\n      }\n    },\n    {\n      \"column\": \"Shadowhawk\",\n      \"properties\": {\n        \"dtype\": \"number\",\n        \"std\": 0,\n        \"min\": 0,\n        \"max\": 0,\n        \"num_unique_values\": 1,\n        \"samples\": [\n          0\n        ],\n        \"semantic_type\": \"\",\n        \"description\": \"\"\n      }\n    },\n    {\n      \"column\": \"Thunderbeaks\",\n      \"properties\": {\n        \"dtype\": \"number\",\n        \"std\": 0,\n        \"min\": 1,\n        \"max\": 1,\n        \"num_unique_values\": 1,\n        \"samples\": [\n          1\n        ],\n        \"semantic_type\": \"\",\n        \"description\": \"\"\n      }\n    },\n    {\n      \"column\": \"Wing\",\n      \"properties\": {\n        \"dtype\": \"number\",\n        \"std\": 0.04894895300208167,\n        \"min\": 0.145,\n        \"max\": 0.273,\n        \"num_unique_values\": 5,\n        \"samples\": [\n          0.243\n        ],\n        \"semantic_type\": \"\",\n        \"description\": \"\"\n      }\n    },\n    {\n      \"column\": \"Weight\",\n      \"properties\": {\n        \"dtype\": \"number\",\n        \"std\": 0.13031999079189655,\n        \"min\": 0.163,\n        \"max\": 0.53,\n        \"num_unique_values\": 5,\n        \"samples\": [\n          0.334\n        ],\n        \"semantic_type\": \"\",\n        \"description\": \"\"\n      }\n    }\n  ]\n}"
            }
          },
          "metadata": {},
          "execution_count": 6
        }
      ]
    },
    {
      "cell_type": "code",
      "source": [
        "# Extracting features and labels\n",
        "X = data.loc[:, ['Wing', 'Weight']]\n",
        "y = data.loc[:, ['Firewing', 'Shadowhawk', 'Thunderbeaks']]"
      ],
      "metadata": {
        "id": "yAbm010P7D_P"
      },
      "execution_count": null,
      "outputs": []
    },
    {
      "cell_type": "code",
      "source": [
        "# Split the data into training, validation, and testing sets\n",
        "X_train_full, X_test, y_train_full, y_test = train_test_split(X, y, test_size=0.3, random_state=42)\n",
        "X_train, X_val, y_train, y_val = train_test_split(X_train_full, y_train_full, test_size=0.2, random_state=42)\n"
      ],
      "metadata": {
        "id": "7-evV-MgS-Ep"
      },
      "execution_count": null,
      "outputs": []
    },
    {
      "cell_type": "code",
      "source": [
        "# Scale the features\n",
        "scaler = StandardScaler()\n",
        "X_train = scaler.fit_transform(X_train)\n",
        "X_val = scaler.transform(X_val)\n",
        "X_test = scaler.transform(X_test)"
      ],
      "metadata": {
        "id": "X0uebO3m9pE8"
      },
      "execution_count": null,
      "outputs": []
    },
    {
      "cell_type": "markdown",
      "source": [
        "# Building a Neural Network with No Hyperparameter Tuning"
      ],
      "metadata": {
        "id": "2i9X-toaX6Ny"
      }
    },
    {
      "cell_type": "code",
      "source": [
        "# Define the Neural Network model\n",
        "model_no_tuning = Sequential()\n",
        "model_no_tuning.add(Dense(8, input_dim=2, activation='relu')) # hidden layer\n",
        "model_no_tuning.add(Dense(3, activation='softmax')) # output layer\n",
        "\n",
        "# Compile the model\n",
        "model_no_tuning.compile(loss='categorical_crossentropy', optimizer='adam', metrics=['accuracy'])\n",
        "\n",
        "# Train the model\n",
        "model_no_tuning.fit(X_train, y_train, epochs=50, verbose=0)"
      ],
      "metadata": {
        "id": "n_AwpChpdFhg"
      },
      "execution_count": null,
      "outputs": []
    },
    {
      "cell_type": "code",
      "source": [
        "# Evaluate model on both validation and test sets\n",
        "loss_val, accuracy_val = model_no_tuning.evaluate(X_val, y_val, verbose=0)\n",
        "loss_test, accuracy_test = model_no_tuning.evaluate(X_test, y_test, verbose=0)\n",
        "\n",
        "print(f\"Accuracy of model with no tuning on validation set: {accuracy_val*100:.2f}%\")\n",
        "print(f\"Accuracy of model with no tuning on test set: {accuracy_test*100:.2f}%\")"
      ],
      "metadata": {
        "id": "6FLuv7U2dGUM",
        "colab": {
          "base_uri": "https://localhost:8080/"
        },
        "outputId": "fd1167bb-9b71-4758-8b85-42e6a3df6abb"
      },
      "execution_count": null,
      "outputs": [
        {
          "output_type": "stream",
          "name": "stdout",
          "text": [
            "Accuracy of model with no tuning on validation set: 80.95%\n",
            "Accuracy of model with no tuning on test set: 66.67%\n"
          ]
        }
      ]
    },
    {
      "cell_type": "markdown",
      "source": [
        "# Building a Neural Network with Hyperparameter Tuning\n",
        "\n",
        " Because we will be testing out different combinations of hyperparameters to determine the optimal values to use, we will create a function that builds the neural network. We will simply call the function, build_neural_network(), for each iteration where we want to test out a different hyperparameter combination."
      ],
      "metadata": {
        "id": "gPR3E8sNYRJV"
      }
    },
    {
      "cell_type": "code",
      "source": [
        "# Function to build the model\n",
        "def build_neural_network(activation, reg_strength, num_nodes):\n",
        "    model = Sequential()\n",
        "    model.add(Dense(num_nodes, input_dim=2, activation=activation, kernel_regularizer=l2(reg_strength))) # Hidden layer\n",
        "    model.add(Dense(3, activation='softmax')) # Output layer\n",
        "    model.compile(optimizer='adam', loss='categorical_crossentropy', metrics=['accuracy'])\n",
        "    return model"
      ],
      "metadata": {
        "id": "f5nWNQvUTnP1"
      },
      "execution_count": null,
      "outputs": []
    },
    {
      "cell_type": "code",
      "source": [
        "# Set up hyperparameter grid\n",
        "param_grid = {\n",
        "    'neurons': [6, 8, 10, 12, 16],\n",
        "    'activation': ['relu', 'tanh', 'sigmoid'],\n",
        "    'reg_strength': [0.1, 0.01, 0.001, 0.0001, None]\n",
        "}\n",
        "\n",
        "# Initialise variables to track the best model\n",
        "best_accuracy = 0.0\n",
        "best_params = None\n",
        "best_model = None"
      ],
      "metadata": {
        "id": "UDMPYiCjA2wo"
      },
      "execution_count": null,
      "outputs": []
    },
    {
      "cell_type": "markdown",
      "source": [
        "The code below manually implements grid search logic to determine the best combination of hyperparameters for our problem."
      ],
      "metadata": {
        "id": "k3U_UyfSYs3u"
      }
    },
    {
      "cell_type": "code",
      "source": [
        "# Iterate over the hyperparameter grid\n",
        "for neurons in param_grid['neurons']:\n",
        "    for activation in param_grid['activation']:\n",
        "        for reg_strength in param_grid['reg_strength']:\n",
        "\n",
        "            print(f\"Training model with {neurons} neurons, {activation} activation, and regularisation strength {reg_strength}\")\n",
        "\n",
        "            model = build_neural_network(activation=activation, reg_strength=reg_strength, num_nodes=neurons)\n",
        "            model.fit(X_train, y_train, epochs=50, batch_size=16, verbose=0)\n",
        "\n",
        "            loss, accuracy = model.evaluate(X_val, y_val, verbose=0)\n",
        "\n",
        "            print(f\"Accuracy on validation set: {accuracy*100:.2f}%\")\n",
        "\n",
        "            # Update the best model if the current one is better\n",
        "            if accuracy > best_accuracy:\n",
        "                best_accuracy = accuracy\n",
        "                best_params = {'neurons': neurons, 'activation': activation, 'reg_strength': reg_strength}\n",
        "                best_model = model"
      ],
      "metadata": {
        "colab": {
          "base_uri": "https://localhost:8080/"
        },
        "id": "C9F59N5fBEW4",
        "outputId": "d402a7ef-351f-462c-b01c-a94240b66dbe"
      },
      "execution_count": null,
      "outputs": [
        {
          "output_type": "stream",
          "name": "stdout",
          "text": [
            "Training model with 6 neurons, relu activation, and regularisation strength 0.1\n",
            "Accuracy on validation set: 90.48%\n",
            "Training model with 6 neurons, relu activation, and regularisation strength 0.01\n",
            "Accuracy on validation set: 90.48%\n",
            "Training model with 6 neurons, relu activation, and regularisation strength 0.001\n",
            "Accuracy on validation set: 85.71%\n",
            "Training model with 6 neurons, relu activation, and regularisation strength 0.0001\n"
          ]
        },
        {
          "output_type": "stream",
          "name": "stderr",
          "text": [
            "WARNING:tensorflow:5 out of the last 9 calls to <function Model.make_test_function.<locals>.test_function at 0x78745ce30f70> triggered tf.function retracing. Tracing is expensive and the excessive number of tracings could be due to (1) creating @tf.function repeatedly in a loop, (2) passing tensors with different shapes, (3) passing Python objects instead of tensors. For (1), please define your @tf.function outside of the loop. For (2), @tf.function has reduce_retracing=True option that can avoid unnecessary retracing. For (3), please refer to https://www.tensorflow.org/guide/function#controlling_retracing and https://www.tensorflow.org/api_docs/python/tf/function for  more details.\n"
          ]
        },
        {
          "output_type": "stream",
          "name": "stdout",
          "text": [
            "Accuracy on validation set: 85.71%\n",
            "Training model with 6 neurons, relu activation, and regularisation strength None\n"
          ]
        },
        {
          "output_type": "stream",
          "name": "stderr",
          "text": [
            "WARNING:tensorflow:6 out of the last 10 calls to <function Model.make_test_function.<locals>.test_function at 0x78745ce31fc0> triggered tf.function retracing. Tracing is expensive and the excessive number of tracings could be due to (1) creating @tf.function repeatedly in a loop, (2) passing tensors with different shapes, (3) passing Python objects instead of tensors. For (1), please define your @tf.function outside of the loop. For (2), @tf.function has reduce_retracing=True option that can avoid unnecessary retracing. For (3), please refer to https://www.tensorflow.org/guide/function#controlling_retracing and https://www.tensorflow.org/api_docs/python/tf/function for  more details.\n"
          ]
        },
        {
          "output_type": "stream",
          "name": "stdout",
          "text": [
            "Accuracy on validation set: 95.24%\n",
            "Training model with 6 neurons, tanh activation, and regularisation strength 0.1\n",
            "Accuracy on validation set: 90.48%\n",
            "Training model with 6 neurons, tanh activation, and regularisation strength 0.01\n",
            "Accuracy on validation set: 85.71%\n",
            "Training model with 6 neurons, tanh activation, and regularisation strength 0.001\n",
            "Accuracy on validation set: 85.71%\n",
            "Training model with 6 neurons, tanh activation, and regularisation strength 0.0001\n",
            "Accuracy on validation set: 90.48%\n",
            "Training model with 6 neurons, tanh activation, and regularisation strength None\n",
            "Accuracy on validation set: 90.48%\n",
            "Training model with 6 neurons, sigmoid activation, and regularisation strength 0.1\n",
            "Accuracy on validation set: 80.95%\n",
            "Training model with 6 neurons, sigmoid activation, and regularisation strength 0.01\n",
            "Accuracy on validation set: 57.14%\n",
            "Training model with 6 neurons, sigmoid activation, and regularisation strength 0.001\n",
            "Accuracy on validation set: 19.05%\n",
            "Training model with 6 neurons, sigmoid activation, and regularisation strength 0.0001\n",
            "Accuracy on validation set: 90.48%\n",
            "Training model with 6 neurons, sigmoid activation, and regularisation strength None\n",
            "Accuracy on validation set: 42.86%\n",
            "Training model with 8 neurons, relu activation, and regularisation strength 0.1\n",
            "Accuracy on validation set: 85.71%\n",
            "Training model with 8 neurons, relu activation, and regularisation strength 0.01\n",
            "Accuracy on validation set: 80.95%\n",
            "Training model with 8 neurons, relu activation, and regularisation strength 0.001\n",
            "Accuracy on validation set: 85.71%\n",
            "Training model with 8 neurons, relu activation, and regularisation strength 0.0001\n",
            "Accuracy on validation set: 90.48%\n",
            "Training model with 8 neurons, relu activation, and regularisation strength None\n",
            "Accuracy on validation set: 85.71%\n",
            "Training model with 8 neurons, tanh activation, and regularisation strength 0.1\n",
            "Accuracy on validation set: 85.71%\n",
            "Training model with 8 neurons, tanh activation, and regularisation strength 0.01\n",
            "Accuracy on validation set: 80.95%\n",
            "Training model with 8 neurons, tanh activation, and regularisation strength 0.001\n",
            "Accuracy on validation set: 95.24%\n",
            "Training model with 8 neurons, tanh activation, and regularisation strength 0.0001\n",
            "Accuracy on validation set: 90.48%\n",
            "Training model with 8 neurons, tanh activation, and regularisation strength None\n",
            "Accuracy on validation set: 90.48%\n",
            "Training model with 8 neurons, sigmoid activation, and regularisation strength 0.1\n",
            "Accuracy on validation set: 38.10%\n",
            "Training model with 8 neurons, sigmoid activation, and regularisation strength 0.01\n",
            "Accuracy on validation set: 100.00%\n",
            "Training model with 8 neurons, sigmoid activation, and regularisation strength 0.001\n",
            "Accuracy on validation set: 85.71%\n",
            "Training model with 8 neurons, sigmoid activation, and regularisation strength 0.0001\n",
            "Accuracy on validation set: 90.48%\n",
            "Training model with 8 neurons, sigmoid activation, and regularisation strength None\n",
            "Accuracy on validation set: 38.10%\n",
            "Training model with 10 neurons, relu activation, and regularisation strength 0.1\n",
            "Accuracy on validation set: 80.95%\n",
            "Training model with 10 neurons, relu activation, and regularisation strength 0.01\n",
            "Accuracy on validation set: 80.95%\n",
            "Training model with 10 neurons, relu activation, and regularisation strength 0.001\n",
            "Accuracy on validation set: 85.71%\n",
            "Training model with 10 neurons, relu activation, and regularisation strength 0.0001\n",
            "Accuracy on validation set: 85.71%\n",
            "Training model with 10 neurons, relu activation, and regularisation strength None\n",
            "Accuracy on validation set: 90.48%\n",
            "Training model with 10 neurons, tanh activation, and regularisation strength 0.1\n",
            "Accuracy on validation set: 85.71%\n",
            "Training model with 10 neurons, tanh activation, and regularisation strength 0.01\n",
            "Accuracy on validation set: 85.71%\n",
            "Training model with 10 neurons, tanh activation, and regularisation strength 0.001\n",
            "Accuracy on validation set: 90.48%\n",
            "Training model with 10 neurons, tanh activation, and regularisation strength 0.0001\n",
            "Accuracy on validation set: 90.48%\n",
            "Training model with 10 neurons, tanh activation, and regularisation strength None\n",
            "Accuracy on validation set: 100.00%\n",
            "Training model with 10 neurons, sigmoid activation, and regularisation strength 0.1\n",
            "Accuracy on validation set: 47.62%\n",
            "Training model with 10 neurons, sigmoid activation, and regularisation strength 0.01\n",
            "Accuracy on validation set: 42.86%\n",
            "Training model with 10 neurons, sigmoid activation, and regularisation strength 0.001\n",
            "Accuracy on validation set: 80.95%\n",
            "Training model with 10 neurons, sigmoid activation, and regularisation strength 0.0001\n",
            "Accuracy on validation set: 38.10%\n",
            "Training model with 10 neurons, sigmoid activation, and regularisation strength None\n",
            "Accuracy on validation set: 61.90%\n",
            "Training model with 12 neurons, relu activation, and regularisation strength 0.1\n",
            "Accuracy on validation set: 90.48%\n",
            "Training model with 12 neurons, relu activation, and regularisation strength 0.01\n",
            "Accuracy on validation set: 90.48%\n",
            "Training model with 12 neurons, relu activation, and regularisation strength 0.001\n",
            "Accuracy on validation set: 90.48%\n",
            "Training model with 12 neurons, relu activation, and regularisation strength 0.0001\n",
            "Accuracy on validation set: 90.48%\n",
            "Training model with 12 neurons, relu activation, and regularisation strength None\n",
            "Accuracy on validation set: 90.48%\n",
            "Training model with 12 neurons, tanh activation, and regularisation strength 0.1\n",
            "Accuracy on validation set: 100.00%\n",
            "Training model with 12 neurons, tanh activation, and regularisation strength 0.01\n",
            "Accuracy on validation set: 90.48%\n",
            "Training model with 12 neurons, tanh activation, and regularisation strength 0.001\n",
            "Accuracy on validation set: 100.00%\n",
            "Training model with 12 neurons, tanh activation, and regularisation strength 0.0001\n",
            "Accuracy on validation set: 95.24%\n",
            "Training model with 12 neurons, tanh activation, and regularisation strength None\n",
            "Accuracy on validation set: 85.71%\n",
            "Training model with 12 neurons, sigmoid activation, and regularisation strength 0.1\n",
            "Accuracy on validation set: 38.10%\n",
            "Training model with 12 neurons, sigmoid activation, and regularisation strength 0.01\n",
            "Accuracy on validation set: 90.48%\n",
            "Training model with 12 neurons, sigmoid activation, and regularisation strength 0.001\n",
            "Accuracy on validation set: 80.95%\n",
            "Training model with 12 neurons, sigmoid activation, and regularisation strength 0.0001\n",
            "Accuracy on validation set: 90.48%\n",
            "Training model with 12 neurons, sigmoid activation, and regularisation strength None\n",
            "Accuracy on validation set: 90.48%\n",
            "Training model with 16 neurons, relu activation, and regularisation strength 0.1\n",
            "Accuracy on validation set: 100.00%\n",
            "Training model with 16 neurons, relu activation, and regularisation strength 0.01\n",
            "Accuracy on validation set: 80.95%\n",
            "Training model with 16 neurons, relu activation, and regularisation strength 0.001\n",
            "Accuracy on validation set: 90.48%\n",
            "Training model with 16 neurons, relu activation, and regularisation strength 0.0001\n",
            "Accuracy on validation set: 90.48%\n",
            "Training model with 16 neurons, relu activation, and regularisation strength None\n",
            "Accuracy on validation set: 90.48%\n",
            "Training model with 16 neurons, tanh activation, and regularisation strength 0.1\n",
            "Accuracy on validation set: 90.48%\n",
            "Training model with 16 neurons, tanh activation, and regularisation strength 0.01\n",
            "Accuracy on validation set: 85.71%\n",
            "Training model with 16 neurons, tanh activation, and regularisation strength 0.001\n",
            "Accuracy on validation set: 90.48%\n",
            "Training model with 16 neurons, tanh activation, and regularisation strength 0.0001\n",
            "Accuracy on validation set: 85.71%\n",
            "Training model with 16 neurons, tanh activation, and regularisation strength None\n",
            "Accuracy on validation set: 90.48%\n",
            "Training model with 16 neurons, sigmoid activation, and regularisation strength 0.1\n",
            "Accuracy on validation set: 80.95%\n",
            "Training model with 16 neurons, sigmoid activation, and regularisation strength 0.01\n",
            "Accuracy on validation set: 80.95%\n",
            "Training model with 16 neurons, sigmoid activation, and regularisation strength 0.001\n",
            "Accuracy on validation set: 80.95%\n",
            "Training model with 16 neurons, sigmoid activation, and regularisation strength 0.0001\n",
            "Accuracy on validation set: 80.95%\n",
            "Training model with 16 neurons, sigmoid activation, and regularisation strength None\n",
            "Accuracy on validation set: 80.95%\n"
          ]
        }
      ]
    },
    {
      "cell_type": "code",
      "source": [
        "# Output details of optimal model\n",
        "print(f\"Best Model Results \\nNeurons: {best_params['neurons']} \\nActivation: {best_params['activation']} \\nReg Strength: {best_params['reg_strength']} \\nAccuracy on validation set: {best_accuracy * 100:.2f}%\")"
      ],
      "metadata": {
        "colab": {
          "base_uri": "https://localhost:8080/"
        },
        "id": "IAHd76gDBhAA",
        "outputId": "1900b42e-be46-4346-ac04-d0178bd626ee"
      },
      "execution_count": null,
      "outputs": [
        {
          "output_type": "stream",
          "name": "stdout",
          "text": [
            "Best Model Results \n",
            "Neurons: 8 \n",
            "Activation: sigmoid \n",
            "Reg Strength: 0.01 \n",
            "Accuracy on validation set: 100.00%\n"
          ]
        }
      ]
    },
    {
      "cell_type": "code",
      "source": [
        "loss_best, accuracy_best = best_model.evaluate(X_test, y_test, verbose=0)\n",
        "print(f\"Accuracy of model with hyperparameter tuning on test set: {accuracy_best*100:.2f}%\")"
      ],
      "metadata": {
        "colab": {
          "base_uri": "https://localhost:8080/"
        },
        "id": "JJKNoWlREcJw",
        "outputId": "1c68c906-6ed5-4fb3-e03c-f36913f73bcd"
      },
      "execution_count": null,
      "outputs": [
        {
          "output_type": "stream",
          "name": "stdout",
          "text": [
            "Accuracy of model with hyperparameter tuning on test set: 93.33%\n"
          ]
        }
      ]
    },
    {
      "cell_type": "markdown",
      "source": [
        "## Comparison\n",
        "\n",
        "The test set accuracy of our basic model with no tuning was 66.67%. In contrast, our tuned model achieved an accuracy of 93.33% on the test set. It is evident that undergoing the process of hyperparameter optimisation was highly beneficial, yielding a more powerful and reliable model for predicting the species in incomplete records."
      ],
      "metadata": {
        "id": "COliR0PjZD3U"
      }
    },
    {
      "cell_type": "markdown",
      "source": [
        "## Further Evaluation of Best Model\n",
        "\n",
        "We will generate a confusion matrix to identify the incorrect predictions made by our best model."
      ],
      "metadata": {
        "id": "5uZEKWyiZ_Z6"
      }
    },
    {
      "cell_type": "code",
      "source": [
        "# Evaluate the best model\n",
        "y_pred = np.argmax(best_model.predict(X_test), axis=1)\n",
        "y_test_labels = np.argmax(y_test, axis=1)  # Convert one-hot encoded y_test to labels\n",
        "conf_matrix = confusion_matrix(y_test_labels, y_pred)\n",
        "\n",
        "# Plotting the confusion matrix\n",
        "plt.figure(figsize=(5, 4))\n",
        "sns.heatmap(conf_matrix, annot=True, cmap='Blues', xticklabels=['Firewing', 'Shadowhawk', 'Thunderbeaks'], yticklabels=['Firewing', 'Shadowhawk', 'Thunderbeaks'])\n",
        "plt.xlabel('Predicted')\n",
        "plt.ylabel('Actual')\n",
        "plt.title('Confusion Matrix')"
      ],
      "metadata": {
        "colab": {
          "base_uri": "https://localhost:8080/",
          "height": 445
        },
        "id": "wf0a0i1aTwYf",
        "outputId": "c681bd35-8f8e-45c6-d91e-d88d92f47170"
      },
      "execution_count": null,
      "outputs": [
        {
          "output_type": "stream",
          "name": "stdout",
          "text": [
            "2/2 [==============================] - 0s 7ms/step\n"
          ]
        },
        {
          "output_type": "execute_result",
          "data": {
            "text/plain": [
              "Text(0.5, 1.0, 'Confusion Matrix')"
            ]
          },
          "metadata": {},
          "execution_count": 30
        },
        {
          "output_type": "display_data",
          "data": {
            "text/plain": [
              "<Figure size 500x400 with 2 Axes>"
            ],
            "image/png": "[encoded data removed]"
          },
          "metadata": {}
        }
      ]
    },
    {
      "cell_type": "markdown",
      "source": [
        "Our model incorrectly predicted that 3 birds belonged to the Shadowhawk species, when they were actually Thunderbeaks."
      ],
      "metadata": {
        "id": "Nl-f6Gmiapn2"
      }
    }
  ]
}